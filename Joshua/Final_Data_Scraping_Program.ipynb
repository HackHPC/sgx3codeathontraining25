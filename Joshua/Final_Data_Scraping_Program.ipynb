<?xml version="1.0" encoding="UTF-8"?>
<!DOCTYPE plist PUBLIC "-//Apple//DTD PLIST 1.0//EN" "http://www.apple.com/DTDs/PropertyList-1.0.dtd">
<plist version="1.0">
<dict>
	<key>URL</key>
	<string>https://github.com/LaJoshua/CERSER-and-the-SGX3-Center-of-Excellence/blob/main/Data%20Scraping%20Program.ipynb</string>
</dict>
</plist>
